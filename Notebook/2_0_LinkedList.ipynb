{
 "cells": [
  {
   "cell_type": "markdown",
   "metadata": {},
   "source": [
    "# LinkedList en C++\n",
    "\n",
    "## Tabla de Contenidos\n",
    "1. [Introducción](#Introducción)\n",
    "2. [Requisitos Previos](#Requisitos-Previos)\n",
    "3. [LinkedList vs std::vector](#LinkedList-vs-std::vector)\n",
    "4. [Operaciones Básicas en LinkedList](#Operaciones-Básicas-en-LinkedList)\n",
    "5. [Ejemplo de Uso: Biblioteca](#Ejemplo-de-Uso:-Biblioteca)\n",
    "6. [Métodos Avanzados en LinkedList](#Métodos-Avanzados-en-LinkedList)\n",
    "7. [Iterar sobre LinkedList](#Iterar-sobre-LinkedList)\n",
    "8. [Preguntas](#Preguntas)\n",
    "9. [Desafíos](#Desafios)\n",
    "\n",
    "## Introducción\n",
    "\n",
    "Este tutorial está diseñado para proporcionar una introducción al uso de la estructura de datos `std::list` en C++, que es la implementación de una lista enlazada en la biblioteca estándar de C++.\n",
    "\n",
    "## Requisitos Previos\n",
    "\n",
    "- Compilador C++ (preferentemente C++11 o superior)\n",
    "- Conocimientos básicos de C++\n",
    "\n",
    "## LinkedList vs std::vector\n",
    "\n",
    "Ambas son estructuras de datos que almacenan elementos en un orden específico. Sin embargo, `std::list` es más eficiente para las inserciones y eliminaciones en cualquier parte de la lista, mientras que `std::vector` es más eficiente para el acceso aleatorio y almacenamiento de memoria contiguo.\n"
   ]
  },
  {
   "cell_type": "code",
   "execution_count": 1,
   "metadata": {
    "vscode": {
     "languageId": "plaintext"
    }
   },
   "outputs": [],
   "source": [
    "#include <list>\n",
    "#include <vector>"
   ]
  },
  {
   "cell_type": "markdown",
   "metadata": {},
   "source": [
    "## Operaciones Básicas en LinkedList\n",
    "\n",
    "### Agregar Elementos"
   ]
  },
  {
   "cell_type": "code",
   "execution_count": 12,
   "metadata": {
    "vscode": {
     "languageId": "plaintext"
    }
   },
   "outputs": [],
   "source": [
    "std::list<int> miLista;\n",
    "miLista.push_back(1);\n",
    "miLista.push_back(2);\n",
    "miLista.push_back(3);\n"
   ]
  },
  {
   "cell_type": "markdown",
   "metadata": {},
   "source": [
    "### Eliminar Elementos"
   ]
  },
  {
   "cell_type": "code",
   "execution_count": 3,
   "metadata": {
    "vscode": {
     "languageId": "plaintext"
    }
   },
   "outputs": [],
   "source": [
    "miLista.remove(1);"
   ]
  },
  {
   "cell_type": "markdown",
   "metadata": {},
   "source": [
    "### Buscar Elementos"
   ]
  },
  {
   "cell_type": "code",
   "execution_count": 4,
   "metadata": {
    "vscode": {
     "languageId": "plaintext"
    }
   },
   "outputs": [],
   "source": [
    "auto it = std::find(miLista.begin(), miLista.end(), 2);"
   ]
  },
  {
   "cell_type": "markdown",
   "metadata": {},
   "source": [
    "### Mostrar lista de elementos\n",
    "Para mostrar una lista de elementos se utilizara la siguiente secuencia, la cual podemos escribir como una funcion (por ahora)."
   ]
  },
  {
   "cell_type": "code",
   "execution_count": 13,
   "metadata": {
    "vscode": {
     "languageId": "plaintext"
    }
   },
   "outputs": [
    {
     "name": "stdout",
     "output_type": "stream",
     "text": [
      "1\n",
      "2\n",
      "3\n"
     ]
    }
   ],
   "source": [
    "#include <iostream>\n",
    "\n",
    "void mostrarLista(std::list<int> l){\n",
    "    //std::list<int>::iterator it3;\n",
    "\n",
    "    auto it2 = l.begin();\n",
    "    while(it2!=l.end()){\n",
    "        std::cout << (*it2) << std::endl;\n",
    "        std::advance(it2,1);\n",
    "    }\n",
    "\n",
    "}\n",
    "\n",
    "mostrarLista(miLista);"
   ]
  },
  {
   "cell_type": "markdown",
   "metadata": {},
   "source": [
    "## Ejemplo de Uso: Biblioteca\n",
    "\n",
    "Podemos usar `std::list` para almacenar una lista de libros en una biblioteca."
   ]
  },
  {
   "cell_type": "code",
   "execution_count": 5,
   "metadata": {
    "vscode": {
     "languageId": "plaintext"
    }
   },
   "outputs": [],
   "source": [
    "class Libro {\n",
    "public:\n",
    "    std::string titulo;\n",
    "    std::string ISBN;\n",
    "\n",
    "    Libro(std::string t, std::string i) : titulo(t), ISBN(i) {}\n",
    "};"
   ]
  },
  {
   "cell_type": "code",
   "execution_count": 6,
   "metadata": {
    "vscode": {
     "languageId": "plaintext"
    }
   },
   "outputs": [],
   "source": [
    "std::list<Libro> biblioteca;\n",
    "biblioteca.push_back(Libro(\"El Principito\", \"12345\"));"
   ]
  },
  {
   "cell_type": "markdown",
   "metadata": {},
   "source": [
    "## Métodos Avanzados en LinkedList\n",
    "\n",
    "### Agregar en una Posición Específica"
   ]
  },
  {
   "cell_type": "code",
   "execution_count": 7,
   "metadata": {
    "vscode": {
     "languageId": "plaintext"
    }
   },
   "outputs": [],
   "source": [
    "auto it = biblioteca.begin();\n",
    "std::advance(it, 1);\n",
    "biblioteca.insert(it, Libro(\"1984\", \"67890\"));"
   ]
  },
  {
   "cell_type": "markdown",
   "metadata": {},
   "source": [
    "### Obtener Elemento por Índice"
   ]
  },
  {
   "cell_type": "code",
   "execution_count": 10,
   "metadata": {
    "vscode": {
     "languageId": "plaintext"
    }
   },
   "outputs": [
    {
     "name": "stdout",
     "output_type": "stream",
     "text": [
      "El Principito"
     ]
    }
   ],
   "source": [
    "#include <iostream>\n",
    "\n",
    "auto it = biblioteca.begin();\n",
    "std::advance(it, 0);\n",
    "//std::cout << it->titulo;\n",
    "std::cout << (*it).titulo;"
   ]
  },
  {
   "cell_type": "markdown",
   "metadata": {},
   "source": [
    "## Iterar sobre LinkedList\n",
    "\n",
    "### Usar un bucle `for` con Iteradores"
   ]
  },
  {
   "cell_type": "code",
   "execution_count": null,
   "metadata": {
    "vscode": {
     "languageId": "plaintext"
    }
   },
   "outputs": [],
   "source": [
    "for(auto it = biblioteca.begin(); it != biblioteca.end(); ++it) {\n",
    "    std::cout << it->titulo << std::endl;\n",
    "}\n"
   ]
  },
  {
   "cell_type": "markdown",
   "metadata": {},
   "source": [
    "## Desafíos\n",
    "\n",
    "### Desafío 1: Buscar un libro por su título\n",
    "\n",
    "### Desafío 2: Eliminar un libro por su ISBN\n",
    "\n",
    "### Desafío 3: Listar todos los libros de un autor específico\n",
    "\n",
    "### Desafío 4: Vaciar la biblioteca\n",
    "\n",
    "### Desafío 5: Ordenar los libros por año de publicación"
   ]
  }
 ],
 "metadata": {
  "kernelspec": {
   "display_name": "C++17",
   "language": "C++17",
   "name": "xcpp17"
  },
  "language_info": {
   "codemirror_mode": "text/x-c++src",
   "file_extension": ".cpp",
   "mimetype": "text/x-c++src",
   "name": "C++17",
   "version": "17"
  },
  "orig_nbformat": 4
 },
 "nbformat": 4,
 "nbformat_minor": 2
}
