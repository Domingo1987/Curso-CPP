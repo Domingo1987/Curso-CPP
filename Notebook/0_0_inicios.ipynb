{
 "cells": [
  {
   "cell_type": "markdown",
   "metadata": {},
   "source": [
    "# Guía para Instalar el Kernel de C++ en Jupyter Notebook en Linux\n",
    "## Introducción\n",
    "\n",
    "Este manual está diseñado para ayudarte a instalar el kernel de C++ en Jupyter Notebook en un sistema Linux. Este kernel te permitirá escribir y ejecutar código C++ directamente desde tu notebook de Jupyter. Para obtener más información sobre los kernels en Jupyter, consulta la [documentación oficial](https://docs.jupyter.org/en/latest/projects/kernels.html)\n",
    "\n",
    "## Requisitos Previos\n",
    "### Compilador C++\n",
    "Asegúrate de tener un compilador C++ instalado en tu sistema. Puedes verificar si g++ está instalado con el siguiente comando:"
   ]
  },
  {
   "cell_type": "code",
   "execution_count": null,
   "metadata": {
    "vscode": {
     "languageId": "plaintext"
    }
   },
   "outputs": [],
   "source": [
    "g++ --version"
   ]
  },
  {
   "cell_type": "markdown",
   "metadata": {},
   "source": [
    "   Si no tienes un compilador C++ instalado, puedes instalarlo con:"
   ]
  },
  {
   "cell_type": "code",
   "execution_count": null,
   "metadata": {
    "vscode": {
     "languageId": "plaintext"
    }
   },
   "outputs": [],
   "source": [
    "sudo apt update\n",
    "sudo apt install build-essential"
   ]
  },
  {
   "cell_type": "markdown",
   "metadata": {},
   "source": [
    "### Jupyter Notebook\n",
    "Asegúrate de tener instalado Jupyter Notebook. Puedes verificar la instalación con:"
   ]
  },
  {
   "cell_type": "code",
   "execution_count": null,
   "metadata": {
    "vscode": {
     "languageId": "plaintext"
    }
   },
   "outputs": [],
   "source": [
    "jupyter --version"
   ]
  },
  {
   "cell_type": "markdown",
   "metadata": {},
   "source": [
    "Si no tienes Jupyter Notebook instalado, instálalo con:"
   ]
  },
  {
   "cell_type": "code",
   "execution_count": null,
   "metadata": {
    "vscode": {
     "languageId": "plaintext"
    }
   },
   "outputs": [],
   "source": [
    "pip install jupyter"
   ]
  },
  {
   "cell_type": "markdown",
   "metadata": {},
   "source": [
    "### Mamba o Conda\n",
    "Será necesario tener Mamba o Conda instalado en tu sistema. Puedes instalar Miniconda desde [aquí.](https://docs.conda.io/en/latest/miniconda.html) o [aqui](https://docs.conda.io/en/latest/miniconda-install.html)\n",
    "\n",
    "Para verificar si Conda está instalado:"
   ]
  },
  {
   "cell_type": "code",
   "execution_count": null,
   "metadata": {
    "vscode": {
     "languageId": "plaintext"
    }
   },
   "outputs": [],
   "source": [
    "conda --version"
   ]
  },
  {
   "cell_type": "markdown",
   "metadata": {},
   "source": [
    "Es probable que el ejecutable conda no esté en tu variable de entorno PATH. Para ello puedes realizar:"
   ]
  },
  {
   "cell_type": "code",
   "execution_count": null,
   "metadata": {
    "vscode": {
     "languageId": "plaintext"
    }
   },
   "outputs": [],
   "source": [
    "export PATH=~/miniconda3/bin:$PATH"
   ]
  },
  {
   "cell_type": "markdown",
   "metadata": {},
   "source": [
    "O de forma permanente:"
   ]
  },
  {
   "cell_type": "code",
   "execution_count": null,
   "metadata": {
    "vscode": {
     "languageId": "plaintext"
    }
   },
   "outputs": [],
   "source": [
    "echo 'export PATH=~/miniconda3/bin:$PATH' >> ~/.bashrc"
   ]
  },
  {
   "cell_type": "markdown",
   "metadata": {},
   "source": [
    "## Instalación del Kernel de C++\n",
    "Existen dos métodos para instalar el kernel de C++: desde un paquete y desde la fuente.\n",
    "\n",
    "### Instalación con Mamba o Conda\n",
    "1. Crea un nuevo entorno de conda llamado cling:"
   ]
  },
  {
   "cell_type": "code",
   "execution_count": null,
   "metadata": {
    "vscode": {
     "languageId": "plaintext"
    }
   },
   "outputs": [],
   "source": [
    "mamba create -n cling\n",
    "conda activate cling"
   ]
  },
  {
   "cell_type": "markdown",
   "metadata": {},
   "source": [
    "o con Conda:"
   ]
  },
  {
   "cell_type": "code",
   "execution_count": null,
   "metadata": {
    "vscode": {
     "languageId": "plaintext"
    }
   },
   "outputs": [],
   "source": [
    "conda create -n cling\n",
    "conda activate cling"
   ]
  },
  {
   "cell_type": "markdown",
   "metadata": {},
   "source": [
    "2. Instala xeus-cling en este entorno:"
   ]
  },
  {
   "cell_type": "code",
   "execution_count": null,
   "metadata": {
    "vscode": {
     "languageId": "plaintext"
    }
   },
   "outputs": [],
   "source": [
    "conda install xeus-cling -c conda-forge"
   ]
  },
  {
   "cell_type": "markdown",
   "metadata": {},
   "source": [
    "### Instalación desde la Fuente\n",
    "Crea un nuevo entorno y instala las dependencias:"
   ]
  },
  {
   "cell_type": "code",
   "execution_count": null,
   "metadata": {
    "vscode": {
     "languageId": "plaintext"
    }
   },
   "outputs": [],
   "source": [
    "mamba create -n xeus-cling -c conda-forge cmake xeus-zmq cling nlohmann_json cppzmq xtl pugixml doctest cpp-argparse\n",
    "conda activate xeus-cling"
   ]
  },
  {
   "cell_type": "markdown",
   "metadata": {},
   "source": [
    "Compila las fuentes. Desde el directorio de construcción, ejecuta:"
   ]
  },
  {
   "cell_type": "code",
   "execution_count": null,
   "metadata": {
    "vscode": {
     "languageId": "plaintext"
    }
   },
   "outputs": [],
   "source": [
    "cmake -D CMAKE_INSTALL_PREFIX=${CONDA_PREFIX} -D CMAKE_C_COMPILER=$CC -D CMAKE_CXX_COMPILER=$CXX -D CMAKE_INSTALL_LIBDIR=${CONDA_PREFIX}/lib ..\n",
    "make && make install"
   ]
  },
  {
   "cell_type": "markdown",
   "metadata": {},
   "source": [
    "### Instalación de un Frontend (Opcional)\n",
    "Si no tienes un frontend de Jupyter ya instalado (como Jupyter Notebook o JupyterLab), instala uno:"
   ]
  },
  {
   "cell_type": "code",
   "execution_count": null,
   "metadata": {
    "vscode": {
     "languageId": "plaintext"
    }
   },
   "outputs": [],
   "source": [
    "mamba install jupyterlab -c conda-forge"
   ]
  },
  {
   "cell_type": "markdown",
   "metadata": {},
   "source": [
    "## Verificar la Instalación\n",
    "Para verificar que el kernel de C++ se ha instalado correctamente, ejecuta el siguiente comando:"
   ]
  },
  {
   "cell_type": "code",
   "execution_count": null,
   "metadata": {
    "vscode": {
     "languageId": "plaintext"
    }
   },
   "outputs": [],
   "source": [
    "jupyter kernelspec list"
   ]
  },
  {
   "cell_type": "markdown",
   "metadata": {},
   "source": [
    "Deberías ver un kernel de C++ en la lista."
   ]
  },
  {
   "cell_type": "markdown",
   "metadata": {},
   "source": [
    "## Referencias\n",
    "[Documentación de xeus-cling](https://xeus-cling.readthedocs.io/en/latest/)"
   ]
  }
 ],
 "metadata": {
  "language_info": {
   "name": "python"
  },
  "orig_nbformat": 4
 },
 "nbformat": 4,
 "nbformat_minor": 2
}
