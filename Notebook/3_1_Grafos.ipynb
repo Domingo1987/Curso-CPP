{
 "cells": [
  {
   "cell_type": "markdown",
   "metadata": {},
   "source": [
    "# Grafos en C++\n",
    "\n",
    "Ahora si va lo que matias puso antes."
   ]
  },
  {
   "cell_type": "markdown",
   "metadata": {},
   "source": [
    "## Matrices de Adyacencia\n",
    "\n",
    "Prompt>> Escribeme un ejemplo de un grafo no dirigido de 5 vertices, utilizando su notacion matematica y creando su matriz de adyacencia utilizando 0 y 1.\n",
    "\n",
    "$ G = (V, A) $ donde \n",
    "* V = {0,1,2,3,4}\n",
    "* A = {{0,4},{0,3},{1,4},{2},{2,3},{1,3},{2,4}} \n",
    "\n",
    "<p align=\"center\">\n",
    "<img src=\"imagenes/ejemploGraf.png\" height=\"150\" width=\"\" />\n",
    "</p>\n",
    "\n",
    "Por lo tanto la matriz de adyacencia queda\n",
    "\n",
    "<p align=\"center\">\n",
    "<img src=\"imagenes/matrizGraf.png\" height=\"200\" width=\"\" />\n",
    "</p>"
   ]
  },
  {
   "cell_type": "code",
   "execution_count": 21,
   "metadata": {
    "vscode": {
     "languageId": "plaintext"
    }
   },
   "outputs": [
    {
     "name": "stderr",
     "output_type": "stream",
     "text": [
      "/home/domingo/miniconda3/envs/cling/bin/../lib/gcc/../../x86_64-conda-linux-gnu/include/c++/13.1.0/bits/stl_vector.h:435:66: error: no member named 'value' in 'std::is_same<std::vector<int, std::allocator<int> >, std::vector<int, std::allocator<int> > >'\n",
      "      static_assert(is_same<typename remove_cv<_Tp>::type, _Tp>::value,\n",
      "                    ~~~~~~~~~~~~~~~~~~~~~~~~~~~~~~~~~~~~~~~~~~~~~^\n",
      "input_line_48:3:35: note: in instantiation of template class 'std::vector<std::vector<int, std::allocator<int> >, std::allocator<std::vector<int, std::allocator<int> > > >' requested here\n",
      "    std::vector<std::vector<int>> ady;\n",
      "                                  ^\n",
      "In file included from input_line_5:1:\n",
      "In file included from /home/domingo/miniconda3/envs/cling/include/xeus/xinterpreter.hpp:13:\n",
      "In file included from /home/domingo/miniconda3/envs/cling/bin/../lib/gcc/../../x86_64-conda-linux-gnu/include/c++/13.1.0/functional:64:\n",
      "In file included from /home/domingo/miniconda3/envs/cling/bin/../lib/gcc/../../x86_64-conda-linux-gnu/include/c++/13.1.0/vector:66:\n",
      "/home/domingo/miniconda3/envs/cling/bin/../lib/gcc/../../x86_64-conda-linux-gnu/include/c++/13.1.0/bits/stl_vector.h:438:64: error: no member named 'value' in 'std::is_same<std::vector<int, std::allocator<int> >, std::vector<int, std::allocator<int> > >'\n",
      "      static_assert(is_same<typename _Alloc::value_type, _Tp>::value,\n",
      "                    ~~~~~~~~~~~~~~~~~~~~~~~~~~~~~~~~~~~~~~~~~~~^\n"
     ]
    },
    {
     "ename": "Interpreter Error",
     "evalue": "",
     "output_type": "error",
     "traceback": [
      "Interpreter Error: "
     ]
    }
   ],
   "source": [
    "#include <vector>\n",
    "\n",
    "class Grafo {\n",
    "    public : int numVert;\n",
    "    std::vector<std::vector<int>> ady;\n",
    "\n",
    "\n",
    "\n",
    "}\n",
    "\n"
   ]
  },
  {
   "cell_type": "markdown",
   "metadata": {},
   "source": [
    "Como creo clases en C++\n",
    "\n",
    "Esto ira a un cuaderno nuevo que haremos la clase que viene"
   ]
  }
 ],
 "metadata": {
  "kernelspec": {
   "display_name": "C++17",
   "language": "C++17",
   "name": "xcpp17"
  },
  "language_info": {
   "codemirror_mode": "text/x-c++src",
   "file_extension": ".cpp",
   "mimetype": "text/x-c++src",
   "name": "c++",
   "version": "17"
  },
  "orig_nbformat": 4
 },
 "nbformat": 4,
 "nbformat_minor": 2
}
